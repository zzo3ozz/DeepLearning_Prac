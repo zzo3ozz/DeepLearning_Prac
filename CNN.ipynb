{
 "cells": [
  {
   "cell_type": "code",
   "execution_count": 2,
   "metadata": {
    "colab": {
     "base_uri": "https://localhost:8080/"
    },
    "executionInfo": {
     "elapsed": 6,
     "status": "ok",
     "timestamp": 1669683095640,
     "user": {
      "displayName": "한서영",
      "userId": "01580731598118616769"
     },
     "user_tz": -540
    },
    "id": "EzU5sxYq3X1V",
    "outputId": "245da0d7-f9b2-4353-e7c0-21e9c95ac488"
   },
   "outputs": [
    {
     "name": "stdout",
     "output_type": "stream",
     "text": [
      "1.15.0\n"
     ]
    }
   ],
   "source": [
    "import tensorflow\n",
    "\n",
    "print(tensorflow.__version__)"
   ]
  },
  {
   "cell_type": "code",
   "execution_count": 9,
   "metadata": {
    "colab": {
     "background_save": true,
     "base_uri": "https://localhost:8080/"
    },
    "id": "COsuo4jx3DzV"
   },
   "outputs": [
    {
     "name": "stdout",
     "output_type": "stream",
     "text": [
      "Extracting ./mnist/data/train-images-idx3-ubyte.gz\n",
      "Extracting ./mnist/data/train-labels-idx1-ubyte.gz\n",
      "Extracting ./mnist/data/t10k-images-idx3-ubyte.gz\n",
      "Extracting ./mnist/data/t10k-labels-idx1-ubyte.gz\n",
      "WARNING:tensorflow:From C:\\Users\\hhzzo\\AppData\\Local\\Temp\\ipykernel_12212\\4185876655.py:38: The name tf.train.RMSPropOptimizer is deprecated. Please use tf.compat.v1.train.RMSPropOptimizer instead.\n",
      "\n",
      "WARNING:tensorflow:From C:\\Python\\venv\\lib\\site-packages\\tensorflow_core\\python\\training\\rmsprop.py:119: calling Ones.__init__ (from tensorflow.python.ops.init_ops) with dtype is deprecated and will be removed in a future version.\n",
      "Instructions for updating:\n",
      "Call initializer instance with the dtype argument instead of passing it to the constructor\n",
      "Epoch: 0001 Avg. cost = 0.684\n",
      "Epoch: 0002 Avg. cost = 0.059\n",
      "Epoch: 0003 Avg. cost = 0.036\n",
      "Epoch: 0004 Avg. cost = 0.025\n",
      "Epoch: 0005 Avg. cost = 0.017\n",
      "Epoch: 0006 Avg. cost = 0.013\n",
      "Epoch: 0007 Avg. cost = 0.011\n",
      "Epoch: 0008 Avg. cost = 0.009\n",
      "Epoch: 0009 Avg. cost = 0.008\n",
      "Epoch: 0010 Avg. cost = 0.006\n",
      "Epoch: 0011 Avg. cost = 0.007\n",
      "Epoch: 0012 Avg. cost = 0.005\n",
      "Epoch: 0013 Avg. cost = 0.004\n",
      "Epoch: 0014 Avg. cost = 0.004\n",
      "Epoch: 0015 Avg. cost = 0.004\n",
      "최적화 완료!\n",
      "정확도: 0.992\n"
     ]
    }
   ],
   "source": [
    "# TensorFlow 및 MNIST 데이터셋 임포트\n",
    "import tensorflow as tf\n",
    "\n",
    "from tensorflow.examples.tutorials.mnist import input_data\n",
    "mnist = input_data.read_data_sets(\"./mnist/data/\", one_hot=True)\n",
    "\n",
    "# 플레이스홀더 정의\n",
    "X = tf.placeholder(tf.float32, [None, 28, 28, 1])\n",
    "Y = tf.placeholder(tf.float32, [None, 10])\n",
    "keep_prob = tf.placeholder(tf.float32)\n",
    "\n",
    "# 첫 번째 CNN 계층 구성 및 풀링 계층 생성\n",
    "L1 = tf.layers.conv2d(X, 32, [3, 3], activation=tf.nn.relu, padding='SAME')\n",
    "L1 = tf.layers.max_pooling2d(L1, [2, 2], [2, 2], padding='SAME')\n",
    "L1 = tf.layers.dropout(L1, keep_prob)\n",
    "\n",
    "# 두 번째 CNN 계층 구성\n",
    "L2 = tf.layers.conv2d(L1, 64, [3, 3])\n",
    "L2 = tf.layers.max_pooling2d(L2, [2, 2], [2, 2])\n",
    "L2 = tf.layers.dropout(L2, keep_prob)\n",
    "\n",
    "# 완전 연결 계층\n",
    "L3 = tf.contrib.layers.flatten(L2)\n",
    "L3 = tf.layers.dense(L3, 256, activation=tf.nn.relu)\n",
    "L3 = tf.layers.dropout(L3, keep_prob)\n",
    "\n",
    "# 완전 연결 계층(2)\n",
    "L4 = tf.contrib.layers.flatten(L3)\n",
    "L4 = tf.layers.dense(L4, 256, activation=tf.nn.relu)\n",
    "L4 = tf.layers.dropout(L4, keep_prob)\n",
    "\n",
    "# 최종 출력값인 10개의 출력값 생성\n",
    "W5 = tf.Variable(tf.random_normal([256, 10], stddev=0.01))\n",
    "model = tf.matmul(L4, W5)\n",
    "\n",
    "# 손실 함수와 최적화 함수 적용\n",
    "cost = tf.reduce_mean(tf.nn.softmax_cross_entropy_with_logits_v2(logits=model, labels=Y))\n",
    "optimizer = tf.train.RMSPropOptimizer(0.001, 0.9).minimize(cost)\n",
    "\n",
    "#결과 확인\n",
    "init = tf.global_variables_initializer()\n",
    "sess = tf.Session()\n",
    "sess.run(init)\n",
    "\n",
    "batch_size = 100\n",
    "total_batch  = int(mnist.train.num_examples / batch_size)\n",
    "\n",
    "for epoch in range(15):\n",
    "  total_cost = 0\n",
    "\n",
    "  for i in range(total_batch):\n",
    "    batch_xs, batch_ys = mnist.train.next_batch(batch_size)\n",
    "    batch_xs = batch_xs.reshape(-1, 28, 28, 1)\n",
    "\n",
    "    _, cost_val = sess.run([optimizer, cost],\n",
    "                           feed_dict={X: batch_xs, Y: batch_ys, keep_prob: 0.8})\n",
    "    total_cost += cost_val\n",
    "  \n",
    "  print('Epoch:', '%04d' % (epoch + 1), 'Avg. cost =', '{:.3f}'.format(total_cost / total_batch))\n",
    "\n",
    "print('최적화 완료!')\n",
    "\n",
    "is_correct = tf.equal(tf.argmax(model, 1), tf.argmax(Y, 1))\n",
    "accuracy = tf.reduce_mean(tf.cast(is_correct, tf.float32))\n",
    "print('정확도:',\n",
    "      sess.run(accuracy, feed_dict={X: mnist.test.images.reshape(-1, 28, 28, 1),\n",
    "                                    Y: mnist.test.labels, keep_prob: 1}))\n",
    "\n",
    "                "
   ]
  },
  {
   "cell_type": "code",
   "execution_count": null,
   "metadata": {},
   "outputs": [],
   "source": []
  }
 ],
 "metadata": {
  "colab": {
   "authorship_tag": "ABX9TyPEULJo+UoR123Y8omEFdBR",
   "name": "",
   "version": ""
  },
  "kernelspec": {
   "display_name": "Python 3 (ipykernel)",
   "language": "python",
   "name": "python3"
  },
  "language_info": {
   "codemirror_mode": {
    "name": "ipython",
    "version": 3
   },
   "file_extension": ".py",
   "mimetype": "text/x-python",
   "name": "python",
   "nbconvert_exporter": "python",
   "pygments_lexer": "ipython3",
   "version": "3.7.9"
  }
 },
 "nbformat": 4,
 "nbformat_minor": 1
}
